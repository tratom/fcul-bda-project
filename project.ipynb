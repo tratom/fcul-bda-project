{
 "cells": [
  {
   "cell_type": "code",
   "execution_count": 2,
   "metadata": {},
   "outputs": [
    {
     "name": "stderr",
     "output_type": "stream",
     "text": [
      "c:\\Users\\enzo1\\AppData\\Local\\Programs\\Python\\Python310\\lib\\site-packages\\tqdm\\auto.py:21: TqdmWarning: IProgress not found. Please update jupyter and ipywidgets. See https://ipywidgets.readthedocs.io/en/stable/user_install.html\n",
      "  from .autonotebook import tqdm as notebook_tqdm\n"
     ]
    }
   ],
   "source": [
    "import pandas as pd\n",
    "import json\n",
    "from pymongo import MongoClient\n",
    "import mysql.connector\n",
    "import time\n",
    "from sqlalchemy import create_engine,text\n",
    "from sqlalchemy.exc import PendingRollbackError\n",
    "import kagglehub"
   ]
  },
  {
   "cell_type": "code",
   "execution_count": 3,
   "metadata": {},
   "outputs": [],
   "source": [
    "# load configuration file with password for mongoDB and mySQL\n",
    "with open('config.json', 'r') as f:\n",
    "    config = json.load(f)\n",
    "\n",
    "# Extract username and password for MongoDB and MySQL\n",
    "mongo_username = config[\"mongo\"][\"username\"]\n",
    "mongo_password = config[\"mongo\"][\"password\"]\n",
    "mongo_host = config[\"mongo\"][\"host\"]\n",
    "mongo_port = config[\"mongo\"][\"port\"]\n",
    "mysql_username = config[\"mysql\"][\"username\"]\n",
    "mysql_password = config[\"mysql\"][\"password\"]\n",
    "mysql_host = config[\"mysql\"][\"host\"]\n",
    "mysql_port = config[\"mysql\"][\"port\"]"
   ]
  },
  {
   "cell_type": "code",
   "execution_count": 6,
   "metadata": {},
   "outputs": [
    {
     "name": "stdout",
     "output_type": "stream",
     "text": [
      "/home/tommaso/.cache/kagglehub/datasets/arashnic/book-recommendation-dataset/versions/3\n"
     ]
    }
   ],
   "source": [
    "# Download latest dataset version for football matches\n",
    "# path = kagglehub.dataset_download(\"martj42/international-football-results-from-1872-to-2017\")\n",
    "\n",
    "# Download latest dataset version for books recommendation\n",
    "path = kagglehub.dataset_download(\"arashnic/book-recommendation-dataset\")\n",
    "print(path)"
   ]
  },
  {
   "cell_type": "code",
   "execution_count": 12,
   "metadata": {},
   "outputs": [],
   "source": [
    "# Load dataset into pandas dataframe\n",
    "df_books = pd.read_csv(f'{path}/Books.csv', sep = ',', dtype={'Year-Of-Publication': str})\n",
    "df_ratings = pd.read_csv(f'{path}/Ratings.csv')\n",
    "df_users = pd.read_csv(f'{path}/Users.csv')"
   ]
  },
  {
   "cell_type": "code",
   "execution_count": null,
   "metadata": {},
   "outputs": [],
   "source": [
    "# Connect to MongoDB locally\n",
    "client = MongoClient(f'mongodb://{mongo_host}:{mongo_port}',\n",
    "                             username = mongo_username,\n",
    "                             password = mongo_password)\n",
    "\n",
    "client.drop_database(\"project\")\n",
    "\n",
    "db = client[\"project\"]\n",
    "\n",
    "db[\"books\"].drop()\n",
    "db[\"ratings\"].drop()\n",
    "db[\"users\"].drop()\n",
    "\n",
    "books = db[\"books\"]\n",
    "ratings = db[\"ratings\"]\n",
    "users = db[\"users\"]\n",
    "\n",
    "books.insert_many(df_books.to_dict(orient=\"records\"), ordered=False)\n",
    "ratings.insert_many(df_ratings.to_dict(orient=\"records\"), ordered=False)\n",
    "users.insert_many(df_users.to_dict(orient=\"records\"), ordered=False)"
   ]
  },
  {
   "cell_type": "code",
   "execution_count": 13,
   "metadata": {},
   "outputs": [],
   "source": [
    "# Connect to mySQL locally\n",
    "db_url = f'mysql+mysqlconnector://{mysql_username}:{mysql_password}@{mysql_host}:{mysql_port}'\n",
    "engine = create_engine(db_url)\n",
    "\n",
    "database_name = 'project'\n",
    "table_names = ['books', 'ratings', 'users']\n",
    "\n",
    "with engine.connect() as connection:\n",
    "    connection.execute(text(f\"DROP DATABASE IF EXISTS {database_name}\"))\n",
    "    connection.execute(text(f\"CREATE DATABASE {database_name}\"))\n",
    "\n",
    "engine.dispose()\n",
    "\n",
    "db_url = f'mysql+mysqlconnector://{mysql_username}:{mysql_password}@{mysql_host}:{mysql_port}/{database_name}'\n",
    "engine = create_engine(db_url)\n",
    "\n",
    "try:\n",
    "    df_books.to_sql(table_names[0], con=engine, if_exists='replace', index=False, method='multi', chunksize=1000)\n",
    "    df_ratings.to_sql(table_names[1], con=engine, if_exists='replace', index=False, method='multi', chunksize=1000)\n",
    "    df_users.to_sql(table_names[2], con=engine, if_exists='replace', index=False, method='multi', chunksize=1000)\n",
    "    print(\"Data inserted successfully!\")\n",
    "\n",
    "finally:\n",
    "    engine.dispose()"
   ]
  },
  {
   "cell_type": "code",
   "execution_count": null,
   "metadata": {},
   "outputs": [],
   "source": [
    "with engine.connect() as connection:\n",
    "    #result = connection.execute(text(\"SELECT * FROM goalscorers WHERE penalty = TRUE\"))\n",
    "    #for row in result:\n",
    "    #    print(row)\n",
    "\n",
    "    #result = connection.execute(text(\"SELECT * FROM results WHERE home_team = 'Scotland'\"))\n",
    "    #for row in result:\n",
    "    #    print(row)\n",
    "\n",
    "    result = connection.execute(text(\"SELECT * FROM shootouts WHERE home_team = first_shooter\"))\n",
    "    for row in result:\n",
    "        print(row)"
   ]
  }
 ],
 "metadata": {
  "kernelspec": {
   "display_name": "base",
   "language": "python",
   "name": "python3"
  },
  "language_info": {
   "codemirror_mode": {
    "name": "ipython",
    "version": 3
   },
   "file_extension": ".py",
   "mimetype": "text/x-python",
   "name": "python",
   "nbconvert_exporter": "python",
   "pygments_lexer": "ipython3",
   "version": "3.12.2"
  }
 },
 "nbformat": 4,
 "nbformat_minor": 2
}
